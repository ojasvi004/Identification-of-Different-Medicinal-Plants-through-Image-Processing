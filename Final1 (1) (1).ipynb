{
 "cells": [
  {
   "cell_type": "markdown",
   "id": "b90e025b",
   "metadata": {},
   "source": [
    "# Identification of Different Medicinal Plants/Raw materials through Image Processing Using Machine Learning Algorithms"
   ]
  },
  {
   "cell_type": "markdown",
   "id": "dd840f18",
   "metadata": {},
   "source": [
    "In a project aiming to identify medicinal plants and raw materials through image processing with machine learning, the data preparation approach has been enhanced. Convolutional Neural Networks (CNNs) are incorporated to improve image analysis.\n",
    "\n",
    "This code gathers images from a source folder and stores them in a separate destination folder. What sets this approach apart is the utilization of CNNs, enabling the project to discern intricate image details. This analysis enhances plant identification precision through machine learning techniques.\n",
    "\n",
    "By employing CNNs, the dataset becomes better suited for training and feature extraction, ultimately improving the accuracy of the plant identification process. This step signifies a critical advancement in the project's capabilities, enabling more reliable and detailed results when identifying different medicinal plants and raw materials."
   ]
  },
  {
   "cell_type": "markdown",
   "id": "5f19da3f",
   "metadata": {},
   "source": [
    "## Importing Necessary Libraries"
   ]
  },
  {
   "cell_type": "code",
   "execution_count": 1,
   "id": "31dec30e",
   "metadata": {},
   "outputs": [],
   "source": [
    "import tensorflow as tf\n",
    "import matplotlib.pyplot  as plt\n",
    "import cv2\n",
    "import os\n",
    "import numpy as np\n",
    "from tensorflow.keras.preprocessing.image import ImageDataGenerator\n",
    "from tensorflow.keras.preprocessing import image\n",
    "from tensorflow.keras.optimizers import RMSprop\n",
    "from tensorflow.keras import datasets, layers, models\n",
    "\n",
    "import os\n",
    "import random\n",
    "import shutil\n",
    "from sklearn.model_selection import train_test_split"
   ]
  },
  {
   "cell_type": "markdown",
   "id": "34dc3da9",
   "metadata": {},
   "source": [
    "## Splitting the Dataset"
   ]
  },
  {
   "cell_type": "code",
   "execution_count": 2,
   "id": "cd655c57",
   "metadata": {},
   "outputs": [],
   "source": [
    "src_dataset = r\"C:\\Users\\Ojasvi Doye\\OneDrive\\Desktop\\SIH\\FinalPPT\\src_dataset\"\n",
    "train_dataset = r\"C:\\Users\\Ojasvi Doye\\OneDrive\\Desktop\\SIH\\FinalPPT\\Train\"\n",
    "validation_dataset = r\"C:\\Users\\Ojasvi Doye\\OneDrive\\Desktop\\SIH\\FinalPPT\\Val\"\n",
    "test_dataset = r\"C:\\Users\\Ojasvi Doye\\OneDrive\\Desktop\\SIH\\FinalPPT\\Test\"\n",
    "\n",
    "train_ratio = 0.8\n",
    "\n",
    "os.makedirs(train_dataset, exist_ok=True)\n",
    "os.makedirs(validation_dataset, exist_ok=True)\n",
    "os.makedirs(test_dataset, exist_ok=True)\n",
    "\n",
    "for class_name in os.listdir(src_dataset):\n",
    "    class_src = os.path.join(src_dataset, class_name)\n",
    "    class_train = os.path.join(train_dataset, class_name)\n",
    "    class_validation = os.path.join(validation_dataset, class_name)\n",
    "    class_test = os.path.join(test_dataset, class_name)\n",
    "\n",
    "    os.makedirs(class_train, exist_ok=True)\n",
    "    os.makedirs(class_validation, exist_ok=True)\n",
    "    os.makedirs(class_test, exist_ok=True)\n",
    "\n",
    "    files = os.listdir(class_src)\n",
    "    random.shuffle(files)\n",
    "\n",
    "    split_index_train = int(train_ratio * len(files))\n",
    "    split_index_validation = int((train_ratio + 0.1) * len(files))\n",
    "\n",
    "    train_files = files[:split_index_train]\n",
    "    validation_files = files[split_index_train:split_index_validation]\n",
    "    test_files = files[split_index_validation:]\n",
    "\n",
    "    for file in train_files:\n",
    "        shutil.copy(os.path.join(class_src, file), os.path.join(class_train, file))\n",
    "\n",
    "    for file in validation_files:\n",
    "        shutil.copy(os.path.join(class_src, file), os.path.join(class_validation, file))\n",
    "\n",
    "    for file in test_files:\n",
    "        shutil.copy(os.path.join(class_src, file), os.path.join(class_test, file))"
   ]
  },
  {
   "cell_type": "markdown",
   "id": "99b05b86",
   "metadata": {},
   "source": [
    "## Batch Image Resizing "
   ]
  },
  {
   "cell_type": "markdown",
   "id": "b814284e",
   "metadata": {},
   "source": [
    "### 1. For Train Dataset"
   ]
  },
  {
   "cell_type": "code",
   "execution_count": 3,
   "id": "6f371472",
   "metadata": {},
   "outputs": [],
   "source": [
    "from PIL import Image\n",
    "import os\n",
    "\n",
    "main_folder = r\"C:\\Users\\Ojasvi Doye\\OneDrive\\Desktop\\SIH\\FinalPPT\\Train\"\n",
    "output_folder = r\"C:\\Users\\Ojasvi Doye\\OneDrive\\Desktop\\SIH\\FinalPPT\\TrainResize\"\n",
    "os.makedirs(output_folder, exist_ok=True)\n",
    "\n",
    "target_size = (256, 256)\n",
    "\n",
    "for root, _, files in os.walk(main_folder):\n",
    "    for file in files:\n",
    "        if file.lower().endswith(('.jpg', '.jpeg', '.png', '.gif')):\n",
    "            image_path = os.path.join(root, file)\n",
    "            img = Image.open(image_path)\n",
    "            resized_img = img.resize(target_size)\n",
    "\n",
    "            # Get the relative path within the main folder\n",
    "            relative_path = os.path.relpath(root, main_folder)\n",
    "\n",
    "            # Create the new folder in the output folder\n",
    "            new_folder_path = os.path.join(output_folder, relative_path)\n",
    "            os.makedirs(new_folder_path, exist_ok=True)\n",
    "\n",
    "            # Output path for the resized image\n",
    "            output_path = os.path.join(new_folder_path, file)\n",
    "\n",
    "            resized_img.save(output_path)"
   ]
  },
  {
   "cell_type": "markdown",
   "id": "17b51fe0",
   "metadata": {},
   "source": [
    "### 2. For Validation Dataset"
   ]
  },
  {
   "cell_type": "code",
   "execution_count": 4,
   "id": "05cd7bab",
   "metadata": {},
   "outputs": [],
   "source": [
    "main_folder = r\"C:\\Users\\Ojasvi Doye\\OneDrive\\Desktop\\SIH\\FinalPPT\\Val\"\n",
    "output_folder = r\"C:\\Users\\Ojasvi Doye\\OneDrive\\Desktop\\SIH\\FinalPPT\\ValResize\"\n",
    "os.makedirs(output_folder, exist_ok=True)\n",
    "\n",
    "target_size = (256, 256)\n",
    "\n",
    "for root, _, files in os.walk(main_folder):\n",
    "    for file in files:\n",
    "        if file.lower().endswith(('.jpg', '.jpeg', '.png', '.gif')):\n",
    "            image_path = os.path.join(root, file)\n",
    "            img = Image.open(image_path)\n",
    "            resized_img = img.resize(target_size)\n",
    "\n",
    "            # Get the relative path within the main folder\n",
    "            relative_path = os.path.relpath(root, main_folder)\n",
    "\n",
    "            # Create the new folder in the output folder\n",
    "            new_folder_path = os.path.join(output_folder, relative_path)\n",
    "            os.makedirs(new_folder_path, exist_ok=True)\n",
    "\n",
    "            # Output path for the resized image\n",
    "            output_path = os.path.join(new_folder_path, file)\n",
    "\n",
    "            resized_img.save(output_path)       "
   ]
  },
  {
   "cell_type": "markdown",
   "id": "c06ecac8",
   "metadata": {},
   "source": [
    "### 3. For Test Dataset"
   ]
  },
  {
   "cell_type": "code",
   "execution_count": 5,
   "id": "fb128a32",
   "metadata": {},
   "outputs": [],
   "source": [
    "main_folder = r\"C:\\Users\\Ojasvi Doye\\OneDrive\\Desktop\\SIH\\FinalPPT\\Test\"\n",
    "output_folder = r\"C:\\Users\\Ojasvi Doye\\OneDrive\\Desktop\\SIH\\FinalPPT\\TestResize\"\n",
    "os.makedirs(output_folder, exist_ok=True)\n",
    "\n",
    "target_size = (256, 256)\n",
    "\n",
    "for root, _, files in os.walk(main_folder):\n",
    "    for file in files:\n",
    "        if file.lower().endswith(('.jpg', '.jpeg', '.png', '.gif')):\n",
    "            image_path = os.path.join(root, file)\n",
    "            img = Image.open(image_path)\n",
    "            resized_img = img.resize(target_size)\n",
    "\n",
    "            # Get the relative path within the main folder\n",
    "            relative_path = os.path.relpath(root, main_folder)\n",
    "\n",
    "            # Create the new folder in the output folder\n",
    "            new_folder_path = os.path.join(output_folder, relative_path)\n",
    "            os.makedirs(new_folder_path, exist_ok=True)\n",
    "\n",
    "            # Output path for the resized image\n",
    "            output_path = os.path.join(new_folder_path, file)\n",
    "\n",
    "            resized_img.save(output_path)     "
   ]
  },
  {
   "cell_type": "markdown",
   "id": "1f336b4e",
   "metadata": {},
   "source": [
    "## Rescaling and Data Augmentation for Image Classification"
   ]
  },
  {
   "cell_type": "markdown",
   "id": "0aceba7a",
   "metadata": {},
   "source": [
    "In an image classification project, data is optimized for machine learning by rescaling images for consistency and applying data augmentation for improved model robustness. These techniques enhance the dataset for accurate identification of medicinal plants and raw materials."
   ]
  },
  {
   "cell_type": "code",
   "execution_count": 6,
   "id": "0908259f",
   "metadata": {},
   "outputs": [
    {
     "name": "stdout",
     "output_type": "stream",
     "text": [
      "Found 1659 images belonging to 3 classes.\n",
      "Found 208 images belonging to 3 classes.\n"
     ]
    }
   ],
   "source": [
    "train_datagen = ImageDataGenerator(\n",
    "    rescale=1.0 / 255.0,\n",
    "    rotation_range=40,\n",
    "    width_shift_range=0.2,\n",
    "    height_shift_range=0.2,\n",
    "    shear_range=0.2,\n",
    "    zoom_range=0.2,\n",
    "    horizontal_flip=True,\n",
    "    fill_mode='nearest'\n",
    ")\n",
    "\n",
    "validation_datagen = ImageDataGenerator(rescale=1.0 / 255.0)\n",
    "\n",
    "batch_size = 11\n",
    "\n",
    "train_generator = train_datagen.flow_from_directory(\n",
    "    directory=train_dataset,\n",
    "    batch_size=batch_size,\n",
    "    class_mode='categorical' \n",
    ")\n",
    "\n",
    "validation_generator = validation_datagen.flow_from_directory(\n",
    "    directory=validation_dataset,\n",
    "    batch_size=batch_size,\n",
    "    class_mode='categorical'  \n",
    ")"
   ]
  },
  {
   "cell_type": "markdown",
   "id": "55a85dff",
   "metadata": {},
   "source": [
    "## Creating a Convolutional Neural Network (CNN) Model "
   ]
  },
  {
   "cell_type": "markdown",
   "id": "4e71608c",
   "metadata": {},
   "source": [
    "This code segment outlines the creation of a Convolutional Neural Network (CNN) model. CNNs are essential for image-related tasks, and this model is being designed for image classification in our project. The model architecture includes convolutional and pooling layers, followed by fully connected layers, culminating in an output layer for classification. This foundational step lays the groundwork for effective image recognition in our project."
   ]
  },
  {
   "cell_type": "code",
   "execution_count": 7,
   "id": "3b669847",
   "metadata": {},
   "outputs": [],
   "source": [
    "import tensorflow as tf\n",
    "from tensorflow.keras.callbacks import EarlyStopping\n",
    "\n",
    "model = tf.keras.Sequential([\n",
    "    tf.keras.layers.Conv2D(32, (3, 3), activation='relu', \n",
    "                           input_shape=(256, 256, 3), padding='same'), \n",
    "    tf.keras.layers.MaxPooling2D((2, 2)),\n",
    "    tf.keras.layers.Conv2D(64, (3, 3), activation='relu', padding='same'), \n",
    "    tf.keras.layers.MaxPooling2D((2, 2)),\n",
    "    tf.keras.layers.Conv2D(128, (3, 3), activation='relu', padding='same'), \n",
    "    tf.keras.layers.MaxPooling2D((2, 2)),\n",
    "    \n",
    "    tf.keras.layers.Flatten(),\n",
    "    \n",
    "    tf.keras.layers.Dense(128, activation='relu'),\n",
    "    tf.keras.layers.Dropout(0.5), \n",
    "    tf.keras.layers.Dense(3, activation='softmax')\n",
    "])\n",
    "\n",
    "model.compile(optimizer='adam', \n",
    "              loss='sparse_categorical_crossentropy', \n",
    "              metrics=['accuracy'])\n",
    "\n"
   ]
  },
  {
   "cell_type": "markdown",
   "id": "e2015280",
   "metadata": {},
   "source": [
    "## Customizing Learning Rate for Adam Optimizer in a Keras Model"
   ]
  },
  {
   "cell_type": "code",
   "execution_count": 8,
   "id": "eeb80bf8",
   "metadata": {},
   "outputs": [],
   "source": [
    "model.compile(\n",
    "    optimizer='adam',\n",
    "    loss='categorical_crossentropy',\n",
    "    metrics=['accuracy']\n",
    ")"
   ]
  },
  {
   "cell_type": "markdown",
   "id": "2b1d56df",
   "metadata": {},
   "source": [
    "## Training a Keras Model on Image Data Using Data Generators"
   ]
  },
  {
   "cell_type": "code",
   "execution_count": 9,
   "id": "f3048dca",
   "metadata": {
    "scrolled": true
   },
   "outputs": [
    {
     "name": "stdout",
     "output_type": "stream",
     "text": [
      "Epoch 1/30\n",
      "151/151 [==============================] - 120s 790ms/step - loss: 1.0928 - accuracy: 0.5262 - val_loss: 0.8093 - val_accuracy: 0.6346\n",
      "Epoch 2/30\n",
      "151/151 [==============================] - 121s 799ms/step - loss: 0.8936 - accuracy: 0.5973 - val_loss: 0.6025 - val_accuracy: 0.7596\n",
      "Epoch 3/30\n",
      "151/151 [==============================] - 111s 732ms/step - loss: 0.5619 - accuracy: 0.8023 - val_loss: 0.5170 - val_accuracy: 0.7981\n",
      "Epoch 4/30\n",
      "151/151 [==============================] - 110s 728ms/step - loss: 0.4241 - accuracy: 0.8481 - val_loss: 1.1856 - val_accuracy: 0.7019\n",
      "Epoch 5/30\n",
      "151/151 [==============================] - 132s 873ms/step - loss: 0.3929 - accuracy: 0.8656 - val_loss: 0.4002 - val_accuracy: 0.8269\n",
      "Epoch 6/30\n",
      "151/151 [==============================] - 129s 853ms/step - loss: 0.3634 - accuracy: 0.8782 - val_loss: 0.3014 - val_accuracy: 0.8798\n",
      "Epoch 7/30\n",
      "151/151 [==============================] - 130s 862ms/step - loss: 0.3285 - accuracy: 0.8855 - val_loss: 0.1915 - val_accuracy: 0.9231\n",
      "Epoch 8/30\n",
      "151/151 [==============================] - 113s 745ms/step - loss: 0.2786 - accuracy: 0.8981 - val_loss: 0.2438 - val_accuracy: 0.8942\n",
      "Epoch 9/30\n",
      "151/151 [==============================] - 111s 731ms/step - loss: 0.3279 - accuracy: 0.8879 - val_loss: 0.1365 - val_accuracy: 0.9327\n",
      "Epoch 10/30\n",
      "151/151 [==============================] - 113s 748ms/step - loss: 0.2547 - accuracy: 0.9102 - val_loss: 0.2661 - val_accuracy: 0.8846\n",
      "Epoch 11/30\n",
      "151/151 [==============================] - 88s 578ms/step - loss: 0.2253 - accuracy: 0.9222 - val_loss: 0.1175 - val_accuracy: 0.9471\n",
      "Epoch 12/30\n",
      "151/151 [==============================] - 91s 600ms/step - loss: 0.2737 - accuracy: 0.9138 - val_loss: 0.3165 - val_accuracy: 0.8702\n",
      "Epoch 13/30\n",
      "151/151 [==============================] - 112s 740ms/step - loss: 0.2690 - accuracy: 0.9180 - val_loss: 0.2771 - val_accuracy: 0.8846\n",
      "Epoch 14/30\n",
      "151/151 [==============================] - 124s 819ms/step - loss: 0.2015 - accuracy: 0.9234 - val_loss: 0.2355 - val_accuracy: 0.9231\n",
      "Epoch 15/30\n",
      "151/151 [==============================] - 110s 728ms/step - loss: 0.1515 - accuracy: 0.9464 - val_loss: 0.1865 - val_accuracy: 0.9279\n",
      "Epoch 16/30\n",
      "151/151 [==============================] - 109s 721ms/step - loss: 0.2375 - accuracy: 0.9216 - val_loss: 0.4928 - val_accuracy: 0.8269\n",
      "Epoch 17/30\n",
      "151/151 [==============================] - 110s 727ms/step - loss: 0.2254 - accuracy: 0.9307 - val_loss: 0.2133 - val_accuracy: 0.8894\n",
      "Epoch 18/30\n",
      "151/151 [==============================] - 109s 722ms/step - loss: 0.1797 - accuracy: 0.9391 - val_loss: 0.1109 - val_accuracy: 0.9663\n",
      "Epoch 19/30\n",
      "151/151 [==============================] - 114s 756ms/step - loss: 0.1753 - accuracy: 0.9421 - val_loss: 0.1719 - val_accuracy: 0.9279\n",
      "Epoch 20/30\n",
      "151/151 [==============================] - 119s 788ms/step - loss: 0.1627 - accuracy: 0.9506 - val_loss: 0.1835 - val_accuracy: 0.9327\n",
      "Epoch 21/30\n",
      "151/151 [==============================] - 117s 772ms/step - loss: 0.1856 - accuracy: 0.9379 - val_loss: 0.1352 - val_accuracy: 0.9567\n",
      "Epoch 22/30\n",
      "151/151 [==============================] - 111s 734ms/step - loss: 0.2349 - accuracy: 0.9198 - val_loss: 0.2298 - val_accuracy: 0.8798\n",
      "Epoch 23/30\n",
      "151/151 [==============================] - 145s 963ms/step - loss: 0.2125 - accuracy: 0.9241 - val_loss: 0.0549 - val_accuracy: 0.9712\n",
      "Epoch 24/30\n",
      "151/151 [==============================] - 155s 1s/step - loss: 0.1150 - accuracy: 0.9584 - val_loss: 0.0821 - val_accuracy: 0.9567\n",
      "Epoch 25/30\n",
      "151/151 [==============================] - 155s 1s/step - loss: 0.1517 - accuracy: 0.9464 - val_loss: 0.1755 - val_accuracy: 0.9423\n",
      "Epoch 26/30\n",
      "151/151 [==============================] - 156s 1s/step - loss: 0.1315 - accuracy: 0.9560 - val_loss: 0.0696 - val_accuracy: 0.9663\n",
      "Epoch 27/30\n",
      "151/151 [==============================] - 156s 1s/step - loss: 0.1693 - accuracy: 0.9367 - val_loss: 0.1721 - val_accuracy: 0.9231\n",
      "Epoch 28/30\n",
      "151/151 [==============================] - 155s 1s/step - loss: 0.1778 - accuracy: 0.9391 - val_loss: 0.0764 - val_accuracy: 0.9663\n",
      "Epoch 29/30\n",
      "151/151 [==============================] - 155s 1s/step - loss: 0.1382 - accuracy: 0.9494 - val_loss: 0.1063 - val_accuracy: 0.9519\n",
      "Epoch 30/30\n",
      "151/151 [==============================] - 156s 1s/step - loss: 0.1227 - accuracy: 0.9590 - val_loss: 0.0611 - val_accuracy: 0.9712\n"
     ]
    }
   ],
   "source": [
    "history = model.fit(\n",
    "    train_generator,\n",
    "    steps_per_epoch=len(train_generator),\n",
    "    epochs=30,\n",
    "    validation_data=validation_generator,\n",
    "    validation_steps=len(validation_generator)\n",
    ")\n"
   ]
  },
  {
   "cell_type": "code",
   "execution_count": 10,
   "id": "c0c66681",
   "metadata": {},
   "outputs": [
    {
     "data": {
      "image/png": "[encoded data removed]",
      "text/plain": [
       "<Figure size 640x480 with 1 Axes>"
      ]
     },
     "metadata": {},
     "output_type": "display_data"
    }
   ],
   "source": [
    "plt.plot(history.history['accuracy'], label='Training Accuracy')\n",
    "plt.plot(history.history['val_accuracy'], label='Validation Accuracy')\n",
    "plt.xlabel('Epoch')\n",
    "plt.ylabel('Accuracy')\n",
    "plt.legend()\n",
    "plt.show()"
   ]
  },
  {
   "cell_type": "code",
   "execution_count": 19,
   "id": "7d070aff",
   "metadata": {},
   "outputs": [
    {
     "data": {
      "image/png": "[encoded data removed]",
      "text/plain": [
       "<Figure size 640x480 with 1 Axes>"
      ]
     },
     "metadata": {},
     "output_type": "display_data"
    }
   ],
   "source": [
    "plt.plot(history.history['loss'])\n",
    "plt.plot(history.history['val_loss'])\n",
    "plt.title('model loss')\n",
    "plt.ylabel('Loss')\n",
    "plt.xlabel('Epoch')\n",
    "plt.legend(['train', 'val'], loc='upper left')\n",
    "plt.show()"
   ]
  },
  {
   "cell_type": "markdown",
   "id": "2081172a",
   "metadata": {},
   "source": [
    "## Evaluating a Keras Model on a Test Dataset Using a Data Generator"
   ]
  },
  {
   "cell_type": "code",
   "execution_count": 11,
   "id": "7f651070",
   "metadata": {},
   "outputs": [
    {
     "name": "stdout",
     "output_type": "stream",
     "text": [
      "Found 209 images belonging to 3 classes.\n",
      "19/19 [==============================] - 7s 330ms/step - loss: 0.0494 - accuracy: 0.9761\n",
      "Test Accuracy: 97.61%\n"
     ]
    }
   ],
   "source": [
    "test_datagen = ImageDataGenerator(rescale=1.0 / 255.0)\n",
    "\n",
    "test_generator = test_datagen.flow_from_directory(\n",
    "    directory=test_dataset,\n",
    "    batch_size=batch_size,\n",
    "    class_mode='categorical' \n",
    ")\n",
    "\n",
    "test_loss, test_accuracy = model.evaluate(test_generator, steps=len(test_generator))\n",
    "\n",
    "print(f\"Test Accuracy: {test_accuracy * 100:.2f}%\")\n"
   ]
  },
  {
   "cell_type": "code",
   "execution_count": null,
   "id": "b3b0948e",
   "metadata": {},
   "outputs": [],
   "source": []
  },
  {
   "cell_type": "code",
   "execution_count": null,
   "id": "2d71dff0",
   "metadata": {},
   "outputs": [],
   "source": []
  }
 ],
 "metadata": {
  "kernelspec": {
   "display_name": "Python 3 (ipykernel)",
   "language": "python",
   "name": "python3"
  },
  "language_info": {
   "codemirror_mode": {
    "name": "ipython",
    "version": 3
   },
   "file_extension": ".py",
   "mimetype": "text/x-python",
   "name": "python",
   "nbconvert_exporter": "python",
   "pygments_lexer": "ipython3",
   "version": "3.11.3"
  }
 },
 "nbformat": 4,
 "nbformat_minor": 5
}
